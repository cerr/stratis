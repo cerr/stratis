{
 "cells": [
  {
   "cell_type": "markdown",
   "id": "30fffd6f-5e6a-4bea-87ae-d6ff9e0bbf5c",
   "metadata": {
    "tags": []
   },
   "source": [
    "# Demo notebook for downloading TG211 data from MSK PIXNAT for analysis"
   ]
  },
  {
   "cell_type": "code",
   "execution_count": 1,
   "id": "ee4d922a-8b8e-420b-91f6-0615b0fda587",
   "metadata": {},
   "outputs": [],
   "source": [
    "from pyxnat import Interface\n",
    "import os\n",
    "from glob import glob"
   ]
  },
  {
   "cell_type": "markdown",
   "id": "a312e302-e7a8-4c22-a84d-027e9ce66907",
   "metadata": {},
   "source": [
    "## Connect to host"
   ]
  },
  {
   "cell_type": "code",
   "execution_count": 2,
   "id": "dd701521-3009-464f-b532-971d3c883954",
   "metadata": {},
   "outputs": [],
   "source": [
    "host = 'http://pixnat.mskcc.org'"
   ]
  },
  {
   "cell_type": "code",
   "execution_count": 8,
   "id": "f67ee9bc-9a82-4df6-9f58-8bd901d1afce",
   "metadata": {},
   "outputs": [
    {
     "name": "stdin",
     "output_type": "stream",
     "text": [
      "User:  locastre\n",
      " ·············\n"
     ]
    }
   ],
   "source": [
    "xnat = Interface(host)"
   ]
  },
  {
   "cell_type": "code",
   "execution_count": 9,
   "id": "ed30022c-20c7-4aa3-ad41-1bf711fe8184",
   "metadata": {},
   "outputs": [],
   "source": [
    "project_id = 'TG211_PAS'"
   ]
  },
  {
   "cell_type": "code",
   "execution_count": 10,
   "id": "ec88aabd-8660-41a9-b64f-ff028f546266",
   "metadata": {},
   "outputs": [],
   "source": [
    "xproj = xnat.select.project(project_id)"
   ]
  },
  {
   "cell_type": "code",
   "execution_count": 11,
   "id": "64d1158c-1d0b-4153-9274-7369c3d41887",
   "metadata": {},
   "outputs": [],
   "source": [
    "MILPPAB_list = []\n",
    "UCLPTLU_list = []"
   ]
  },
  {
   "cell_type": "code",
   "execution_count": 12,
   "id": "96ebb4ce-7911-4f1f-8881-e5aec85afec1",
   "metadata": {},
   "outputs": [],
   "source": [
    "xexplist = xproj.experiments('*').get()"
   ]
  },
  {
   "cell_type": "markdown",
   "id": "3c99d85b-0ed8-433a-8e26-4498e3d5b413",
   "metadata": {},
   "source": [
    "### Get all UCL scans"
   ]
  },
  {
   "cell_type": "code",
   "execution_count": 13,
   "id": "dfcaef15-6ca3-45b7-a8a2-f3a0c39a388e",
   "metadata": {},
   "outputs": [],
   "source": [
    "for exp_id in xexplist:\n",
    "    xexp = xnat.select.project(project_id).experiment(exp_id)\n",
    "    label_id = xexp.attrs.get('label')\n",
    "    if 'MILPPAB' in label_id:\n",
    "        MILPPAB_list.append(exp_id)\n",
    "    elif 'UCLPTLU' in label_id:\n",
    "        UCLPTLU_list.append(exp_id)"
   ]
  },
  {
   "cell_type": "code",
   "execution_count": 14,
   "id": "09475873-a35d-4eeb-8ad0-2b30d09ac2fd",
   "metadata": {},
   "outputs": [
    {
     "data": {
      "text/plain": [
       "['PI_XNAT_E04867',\n",
       " 'PI_XNAT_E04868',\n",
       " 'PI_XNAT_E04869',\n",
       " 'PI_XNAT_E04870',\n",
       " 'PI_XNAT_E04871',\n",
       " 'PI_XNAT_E04872',\n",
       " 'PI_XNAT_E04873',\n",
       " 'PI_XNAT_E04874',\n",
       " 'PI_XNAT_E04875',\n",
       " 'PI_XNAT_E04876']"
      ]
     },
     "execution_count": 14,
     "metadata": {},
     "output_type": "execute_result"
    }
   ],
   "source": [
    "UCLPTLU_list"
   ]
  },
  {
   "cell_type": "markdown",
   "id": "f487506e-a1e9-405a-a214-a826efe61db4",
   "metadata": {},
   "source": [
    "## Demo download of data to local folder"
   ]
  },
  {
   "cell_type": "code",
   "execution_count": 15,
   "id": "5001f97a-e9c7-4dd8-b92a-ac602880711e",
   "metadata": {},
   "outputs": [],
   "source": [
    "download_dir = 'demo'"
   ]
  },
  {
   "cell_type": "code",
   "execution_count": 16,
   "id": "19a3e819-81bd-4287-9f09-6483694605f4",
   "metadata": {},
   "outputs": [],
   "source": [
    "os.makedirs(download_dir,exist_ok=True)"
   ]
  },
  {
   "cell_type": "markdown",
   "id": "7d808533-8f66-4476-98c1-8f5f5d418fde",
   "metadata": {},
   "source": [
    "### Choose first UCL exam in list"
   ]
  },
  {
   "cell_type": "code",
   "execution_count": 17,
   "id": "84242762-34df-41a2-a14c-bdddd29dc2ae",
   "metadata": {},
   "outputs": [],
   "source": [
    "exp_id = UCLPTLU_list[0]"
   ]
  },
  {
   "cell_type": "code",
   "execution_count": 18,
   "id": "f243bbfe-6969-4c6e-8147-c2e63c86b570",
   "metadata": {},
   "outputs": [],
   "source": [
    "xexp = xnat.select.project(project_id).experiment(exp_id)\n",
    "label_id = xexp.attrs.get('label')"
   ]
  },
  {
   "cell_type": "code",
   "execution_count": 19,
   "id": "eeeaf152-d699-4671-8fde-e553a5242b3d",
   "metadata": {},
   "outputs": [
    {
     "name": "stdout",
     "output_type": "stream",
     "text": [
      "UCLPTLU_02\n"
     ]
    }
   ],
   "source": [
    "print(label_id)"
   ]
  },
  {
   "cell_type": "markdown",
   "id": "8dd9d43c-b07f-42cc-a84e-2156672954e5",
   "metadata": {},
   "source": [
    "### Get planC from first exam"
   ]
  },
  {
   "cell_type": "code",
   "execution_count": 16,
   "id": "e88dbfee-eaba-4be9-b1f3-c036a2580d18",
   "metadata": {},
   "outputs": [],
   "source": [
    "cerrdownloadpath = os.path.join(download_dir,label_id)\n",
    "os.makedirs(cerrdownloadpath,exist_ok=True)"
   ]
  },
  {
   "cell_type": "code",
   "execution_count": 17,
   "id": "987deb8f-052d-49ee-88ca-f811ca91223c",
   "metadata": {},
   "outputs": [
    {
     "data": {
      "text/plain": [
       "['demo\\\\UCLPTLU_02\\\\CERR\\\\UCLPTLU_02.mat.bz2']"
      ]
     },
     "execution_count": 17,
     "metadata": {},
     "output_type": "execute_result"
    }
   ],
   "source": [
    "xexp.resource('CERR').get(cerrdownloadpath,extract=True)"
   ]
  },
  {
   "cell_type": "markdown",
   "id": "309d0491-45e3-461e-9fe5-81162266a9a7",
   "metadata": {},
   "source": [
    "### Get NIfTI files"
   ]
  },
  {
   "cell_type": "code",
   "execution_count": 18,
   "id": "364ea8cc-6f7c-4122-b9ac-d893083f9f03",
   "metadata": {},
   "outputs": [
    {
     "data": {
      "text/plain": [
       "['demo\\\\UCLPTLU_02\\\\NIfTI\\\\CT_scan_1_CT.1062013.111435.370752.677178.nii',\n",
       " 'demo\\\\UCLPTLU_02\\\\NIfTI\\\\PT_1_mask_GTV_CT.1062013.111627.3447983.0525999.nii',\n",
       " 'demo\\\\UCLPTLU_02\\\\NIfTI\\\\PT_1_scan_2_CT.1062013.111627.3447983.0525128.nii',\n",
       " 'demo\\\\UCLPTLU_02\\\\NIfTI\\\\PT_2_mask_GTV_CT.1062013.112120.4427669.175332.nii',\n",
       " 'demo\\\\UCLPTLU_02\\\\NIfTI\\\\PT_2_scan_3_CT.1062013.112120.4427669.1753171.nii']"
      ]
     },
     "execution_count": 18,
     "metadata": {},
     "output_type": "execute_result"
    }
   ],
   "source": [
    "xexp.resource('NIfTI').get(cerrdownloadpath,extract=True)"
   ]
  },
  {
   "cell_type": "markdown",
   "id": "21f63e85-5d0e-4381-8c22-ba2f420a0396",
   "metadata": {},
   "source": [
    "### Get DICOM files"
   ]
  },
  {
   "cell_type": "code",
   "execution_count": 20,
   "id": "cbfe5803-9560-41fc-939b-04277b6a3a6f",
   "metadata": {},
   "outputs": [
    {
     "name": "stdout",
     "output_type": "stream",
     "text": [
      "['1_3_6_1_4_1_9590_100_1_2_251798578225648820027105844481971439166', '1_3_6_1_4_1_9590_100_1_2_350146998316667394530049581082729940716', '1_3_6_1_4_1_9590_100_1_2_388534113514407529223602170040924316478', '1_3_6_1_4_1_9590_100_1_2_429175419830198836429998868710063379239']\n"
     ]
    }
   ],
   "source": [
    "scanlist = xexp.scans('*').get()\n",
    "print(scanlist)"
   ]
  },
  {
   "cell_type": "code",
   "execution_count": 23,
   "id": "05f1bf97-4030-4799-ae62-858eaae823c3",
   "metadata": {},
   "outputs": [
    {
     "name": "stdout",
     "output_type": "stream",
     "text": [
      "1_3_6_1_4_1_9590_100_1_2_350146998316667394530049581082729940716\n"
     ]
    },
    {
     "ename": "FileNotFoundError",
     "evalue": "[Errno 2] No such file or directory: 'demo\\\\UCLPTLU_02\\\\1_3_6_1_4_1_9590_100_1_2_350146998316667394530049581082729940716\\\\UCLPTLU_02\\\\scans\\\\1_3_6_1_4_1_9590_100_1_2_350146998316667394530049581082729940716-CT\\\\resources\\\\DICOM\\\\files\\\\1.3.6.1.4.1.9590.100.1.2.424152928503392386823971706281339896104-no-value-for-SeriesNumber-120-5zdx63.dcm'",
     "output_type": "error",
     "traceback": [
      "\u001b[1;31m---------------------------------------------------------------------------\u001b[0m",
      "\u001b[1;31mFileNotFoundError\u001b[0m                         Traceback (most recent call last)",
      "\u001b[1;32m~\\AppData\\Local\\Temp/ipykernel_22208/1447137994.py\u001b[0m in \u001b[0;36m<module>\u001b[1;34m\u001b[0m\n\u001b[0;32m      5\u001b[0m     \u001b[1;32mif\u001b[0m \u001b[0mxscan\u001b[0m\u001b[1;33m.\u001b[0m\u001b[0mresource\u001b[0m\u001b[1;33m(\u001b[0m\u001b[1;34m'DICOM'\u001b[0m\u001b[1;33m)\u001b[0m\u001b[1;33m.\u001b[0m\u001b[0mexists\u001b[0m\u001b[1;33m(\u001b[0m\u001b[1;33m)\u001b[0m \u001b[1;32mand\u001b[0m \u001b[0mxscan\u001b[0m\u001b[1;33m.\u001b[0m\u001b[0mattrs\u001b[0m\u001b[1;33m.\u001b[0m\u001b[0mget\u001b[0m\u001b[1;33m(\u001b[0m\u001b[1;34m'type'\u001b[0m\u001b[1;33m)\u001b[0m \u001b[1;33m==\u001b[0m \u001b[1;34m'CT'\u001b[0m\u001b[1;33m:\u001b[0m\u001b[1;33m\u001b[0m\u001b[1;33m\u001b[0m\u001b[0m\n\u001b[0;32m      6\u001b[0m         \u001b[0mprint\u001b[0m\u001b[1;33m(\u001b[0m\u001b[0mscan_id\u001b[0m\u001b[1;33m)\u001b[0m\u001b[1;33m\u001b[0m\u001b[1;33m\u001b[0m\u001b[0m\n\u001b[1;32m----> 7\u001b[1;33m         \u001b[0mxscan\u001b[0m\u001b[1;33m.\u001b[0m\u001b[0mresource\u001b[0m\u001b[1;33m(\u001b[0m\u001b[1;34m'DICOM'\u001b[0m\u001b[1;33m)\u001b[0m\u001b[1;33m.\u001b[0m\u001b[0mget\u001b[0m\u001b[1;33m(\u001b[0m\u001b[0mdicompath\u001b[0m\u001b[1;33m)\u001b[0m\u001b[1;33m\u001b[0m\u001b[1;33m\u001b[0m\u001b[0m\n\u001b[0m",
      "\u001b[1;32m~\\Miniconda3\\envs\\pyxnat\\lib\\site-packages\\pyxnat\\core\\resources.py\u001b[0m in \u001b[0;36mget\u001b[1;34m(self, dest_dir, extract)\u001b[0m\n\u001b[0;32m   1892\u001b[0m \u001b[1;33m\u001b[0m\u001b[0m\n\u001b[0;32m   1893\u001b[0m         \u001b[0mfzip\u001b[0m \u001b[1;33m=\u001b[0m \u001b[0mzipfile\u001b[0m\u001b[1;33m.\u001b[0m\u001b[0mZipFile\u001b[0m\u001b[1;33m(\u001b[0m\u001b[0mzip_location\u001b[0m\u001b[1;33m,\u001b[0m \u001b[1;34m'r'\u001b[0m\u001b[1;33m)\u001b[0m\u001b[1;33m\u001b[0m\u001b[1;33m\u001b[0m\u001b[0m\n\u001b[1;32m-> 1894\u001b[1;33m         \u001b[0mfzip\u001b[0m\u001b[1;33m.\u001b[0m\u001b[0mextractall\u001b[0m\u001b[1;33m(\u001b[0m\u001b[0mpath\u001b[0m\u001b[1;33m=\u001b[0m\u001b[0mdest_dir\u001b[0m\u001b[1;33m)\u001b[0m\u001b[1;33m\u001b[0m\u001b[1;33m\u001b[0m\u001b[0m\n\u001b[0m\u001b[0;32m   1895\u001b[0m         \u001b[0mfzip\u001b[0m\u001b[1;33m.\u001b[0m\u001b[0mclose\u001b[0m\u001b[1;33m(\u001b[0m\u001b[1;33m)\u001b[0m\u001b[1;33m\u001b[0m\u001b[1;33m\u001b[0m\u001b[0m\n\u001b[0;32m   1896\u001b[0m \u001b[1;33m\u001b[0m\u001b[0m\n",
      "\u001b[1;32m~\\Miniconda3\\envs\\pyxnat\\lib\\zipfile.py\u001b[0m in \u001b[0;36mextractall\u001b[1;34m(self, path, members, pwd)\u001b[0m\n\u001b[0;32m   1631\u001b[0m \u001b[1;33m\u001b[0m\u001b[0m\n\u001b[0;32m   1632\u001b[0m         \u001b[1;32mfor\u001b[0m \u001b[0mzipinfo\u001b[0m \u001b[1;32min\u001b[0m \u001b[0mmembers\u001b[0m\u001b[1;33m:\u001b[0m\u001b[1;33m\u001b[0m\u001b[1;33m\u001b[0m\u001b[0m\n\u001b[1;32m-> 1633\u001b[1;33m             \u001b[0mself\u001b[0m\u001b[1;33m.\u001b[0m\u001b[0m_extract_member\u001b[0m\u001b[1;33m(\u001b[0m\u001b[0mzipinfo\u001b[0m\u001b[1;33m,\u001b[0m \u001b[0mpath\u001b[0m\u001b[1;33m,\u001b[0m \u001b[0mpwd\u001b[0m\u001b[1;33m)\u001b[0m\u001b[1;33m\u001b[0m\u001b[1;33m\u001b[0m\u001b[0m\n\u001b[0m\u001b[0;32m   1634\u001b[0m \u001b[1;33m\u001b[0m\u001b[0m\n\u001b[0;32m   1635\u001b[0m     \u001b[1;33m@\u001b[0m\u001b[0mclassmethod\u001b[0m\u001b[1;33m\u001b[0m\u001b[1;33m\u001b[0m\u001b[0m\n",
      "\u001b[1;32m~\\Miniconda3\\envs\\pyxnat\\lib\\zipfile.py\u001b[0m in \u001b[0;36m_extract_member\u001b[1;34m(self, member, targetpath, pwd)\u001b[0m\n\u001b[0;32m   1685\u001b[0m \u001b[1;33m\u001b[0m\u001b[0m\n\u001b[0;32m   1686\u001b[0m         \u001b[1;32mwith\u001b[0m \u001b[0mself\u001b[0m\u001b[1;33m.\u001b[0m\u001b[0mopen\u001b[0m\u001b[1;33m(\u001b[0m\u001b[0mmember\u001b[0m\u001b[1;33m,\u001b[0m \u001b[0mpwd\u001b[0m\u001b[1;33m=\u001b[0m\u001b[0mpwd\u001b[0m\u001b[1;33m)\u001b[0m \u001b[1;32mas\u001b[0m \u001b[0msource\u001b[0m\u001b[1;33m,\u001b[0m\u001b[0;31m \u001b[0m\u001b[0;31m\\\u001b[0m\u001b[1;33m\u001b[0m\u001b[1;33m\u001b[0m\u001b[0m\n\u001b[1;32m-> 1687\u001b[1;33m              \u001b[0mopen\u001b[0m\u001b[1;33m(\u001b[0m\u001b[0mtargetpath\u001b[0m\u001b[1;33m,\u001b[0m \u001b[1;34m\"wb\"\u001b[0m\u001b[1;33m)\u001b[0m \u001b[1;32mas\u001b[0m \u001b[0mtarget\u001b[0m\u001b[1;33m:\u001b[0m\u001b[1;33m\u001b[0m\u001b[1;33m\u001b[0m\u001b[0m\n\u001b[0m\u001b[0;32m   1688\u001b[0m             \u001b[0mshutil\u001b[0m\u001b[1;33m.\u001b[0m\u001b[0mcopyfileobj\u001b[0m\u001b[1;33m(\u001b[0m\u001b[0msource\u001b[0m\u001b[1;33m,\u001b[0m \u001b[0mtarget\u001b[0m\u001b[1;33m)\u001b[0m\u001b[1;33m\u001b[0m\u001b[1;33m\u001b[0m\u001b[0m\n\u001b[0;32m   1689\u001b[0m \u001b[1;33m\u001b[0m\u001b[0m\n",
      "\u001b[1;31mFileNotFoundError\u001b[0m: [Errno 2] No such file or directory: 'demo\\\\UCLPTLU_02\\\\1_3_6_1_4_1_9590_100_1_2_350146998316667394530049581082729940716\\\\UCLPTLU_02\\\\scans\\\\1_3_6_1_4_1_9590_100_1_2_350146998316667394530049581082729940716-CT\\\\resources\\\\DICOM\\\\files\\\\1.3.6.1.4.1.9590.100.1.2.424152928503392386823971706281339896104-no-value-for-SeriesNumber-120-5zdx63.dcm'"
     ]
    }
   ],
   "source": [
    "for scan_id in scanlist:\n",
    "    xscan = xexp.scan(scan_id)\n",
    "    dicompath = os.path.join(download_dir,label_id,scan_id)\n",
    "    os.makedirs(dicompath,exist_ok=True)\n",
    "    if xscan.resource('DICOM').exists() and xscan.attrs.get('type') == 'CT':\n",
    "        print(scan_id)\n",
    "        xscan.resource('DICOM').get(dicompath)"
   ]
  },
  {
   "cell_type": "code",
   "execution_count": null,
   "id": "d6710031-9656-4257-b792-dbec787a1bc3",
   "metadata": {},
   "outputs": [],
   "source": []
  }
 ],
 "metadata": {
  "kernelspec": {
   "display_name": "Python 3 (ipykernel)",
   "language": "python",
   "name": "python3"
  },
  "language_info": {
   "codemirror_mode": {
    "name": "ipython",
    "version": 3
   },
   "file_extension": ".py",
   "mimetype": "text/x-python",
   "name": "python",
   "nbconvert_exporter": "python",
   "pygments_lexer": "ipython3",
   "version": "3.9.5"
  }
 },
 "nbformat": 4,
 "nbformat_minor": 5
}
