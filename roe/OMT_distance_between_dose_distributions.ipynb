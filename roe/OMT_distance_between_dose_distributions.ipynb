{
  "nbformat": 4,
  "nbformat_minor": 0,
  "metadata": {
    "colab": {
      "name": "demo_OMT_distance_between_dose_distributions.ipynb",
      "provenance": [],
      "collapsed_sections": [],
      "toc_visible": true,
      "include_colab_link": true
    },
    "kernelspec": {
      "name": "python3",
      "display_name": "Python 3"
    },
    "language_info": {
      "name": "python"
    }
  },
  "cells": [
  {
        "cell_type": "markdown",
        "metadata": {
          "id": "view-in-github",
          "colab_type": "text"
        },
        "source": [
          "<a href=\"https://colab.research.google.com/github/cerr/CERR/blob/octave_dev/Jupyter_Notebooks/demo_OMT_distance_between_dose_distributions.ipynb\" target=\"_parent\"><img src=\"https://colab.research.google.com/assets/colab-badge.svg\" alt=\"Open In Colab\"/></a>"
        ]
    },
    {
      "cell_type": "markdown",
      "metadata": {
        "id": "F-lpukB4d11Z"
      },
      "source": [
        "\n",
        "Install Octave \n",
        "---\n",
        "\n"
      ]
    },
    {
      "cell_type": "code",
      "metadata": {
        "id": "3GEDdRgedmrk"
      },
      "source": [
        "%%capture \n",
        "!! apt-get update\n",
        "! apt-get install gcc g++ gfortran make libblas-dev liblapack-dev libpcre3-dev libarpack2-dev libcurl4-gnutls-dev epstool libfftw3-dev transfig libfltk1.3-dev libfontconfig1-dev libfreetype6-dev libgl2ps-dev libglpk-dev libreadline-dev gnuplot-x11 libgraphicsmagick++1-dev libhdf5-serial-dev openjdk-8-jdk libsndfile1-dev llvm-dev lpr texinfo libgl1-mesa-dev libosmesa6-dev pstoedit portaudio19-dev libqhull-dev libqrupdate-dev libqscintilla2-dev libsuitesparse-dev texlive texlive-generic-recommended libxft-dev zlib1g-dev autoconf automake bison flex gperf gzip icoutils librsvg2-bin libtool perl rsync tar qtbase5-dev qttools5-dev qttools5-dev-tools libqscintilla2-qt5-dev wget git libsundials-dev gnuplot x11-apps\n"
      ],
      "execution_count": null,
      "outputs": []
    },
    {
      "cell_type": "code",
      "metadata": {
        "id": "FoLtRmUUd872"
      },
      "source": [
        "%%capture\n",
        "%%bash\n",
        "LOCATION=$(curl -s https://api.github.com/repos/cerr/octave-colab/tags \\\n",
        "| grep \"name\" | tail -n 1 \\\n",
        "| awk '{print \"https://github.com/cerr/octave-colab/archive/\" substr($2, 2, length($2)-3) \".zip\"}') \\\n",
        "; curl -L -o octavecolab.zip $LOCATION\n",
        "\n",
        "unzip octavecolab.zip -d octavecolab\n",
        "releaseDir=$(ls octavecolab)\n",
        "tar xzvf \"octavecolab/${releaseDir}/octavecolab.tar.gz\""
      ],
      "execution_count": null,
      "outputs": []
    },
    {
      "cell_type": "code",
      "metadata": {
        "id": "gazqhGEmd_IY"
      },
      "source": [
        "import os\n",
        "os.environ['OCTAVE_EXECUTABLE'] = '/content/octavecolab/bin/octave-cli'\n",
        "os.environ['PATH'] = '/content/octavecolab/bin:' + os.environ['PATH']"
      ],
      "execution_count": null,
      "outputs": []
    },
    {
      "cell_type": "markdown",
      "metadata": {
        "id": "EmKpVMvaoewA"
      },
      "source": [
        "## Install Oct2Py and required packages"
      ]
    },
    {
      "cell_type": "code",
      "metadata": {
        "id": "Jt3D8UjJeC7l"
      },
      "source": [
        "%%capture\n",
        "!pip3 install octave_kernel\n",
        "!pip3 install oct2py\n",
        "\n",
        "%load_ext oct2py.ipython\n",
        "\n",
        "!wget https://nchc.dl.sourceforge.net/project/octave/Octave%20Forge%20Packages/Individual%20Package%20Releases/image-2.12.0.tar.gz\n",
        "!wget https://nchc.dl.sourceforge.net/project/octave/Octave%20Forge%20Packages/Individual%20Package%20Releases/io-2.6.1.tar.gz\n",
        "!wget https://nchc.dl.sourceforge.net/project/octave/Octave%20Forge%20Packages/Individual%20Package%20Releases/statistics-1.4.2.tar.gz\n",
        "\n",
        "!octave --eval \"pkg install image-2.12.0.tar.gz\"\n",
        "!octave --eval \"pkg install io-2.6.1.tar.gz\"\n",
        "!octave --eval \"pkg install statistics-1.4.2.tar.gz\""
      ],
      "execution_count": null,
      "outputs": []
    },
    {
      "cell_type": "markdown",
      "metadata": {
        "id": "vwn3VKCKeMeo"
      },
      "source": [
        "## Download CERRx"
      ]
    },
    {
      "cell_type": "code",
      "metadata": {
        "id": "pK_746gleMOq"
      },
      "source": [
        "%%capture\n",
        "!git clone --single-branch --branch octave_dev https://www.github.com/cerr/CERR.git"
      ],
      "execution_count": null,
      "outputs": []
    },
    {
      "cell_type": "markdown",
      "metadata": {
        "id": "34thLpRQeYNe"
      },
      "source": [
        "## Sample OMT distance calculations"
      ]
    },
    {
      "cell_type": "code",
      "metadata": {
        "id": "utcBxQkgeOhj"
      },
      "source": [
        "%%capture\n",
        "from oct2py import octave\n",
        "\n",
        "octave.eval('pkg load image')\n",
        "octave.eval('pkg load io')\n",
        "octave.eval('pkg load statistics')\n",
        "octave.addpath(octave.genpath('/content/CERR'))"
      ],
      "execution_count": null,
      "outputs": []
    },
    {
      "cell_type": "code",
      "metadata": {
        "id": "wqt_F8kYeLCy"
      },
      "source": [
        "#Load sample data\n",
        "sampleData = '/content/CERR/Unit_Testing/data_for_cerr_tests/CERR_plans/' + \\\n",
        "             'lung_ex1_20may03.mat.bz2'\n",
        "\n",
        "%octave_push sampleData\n",
        "\n",
        "planC = octave.loadPlanC(sampleData,octave.tempdir());\n",
        "planC = octave.updatePlanFields(planC);\n",
        "planC = octave.quality_assure_planC(sampleData,planC);"
      ],
      "execution_count": null,
      "outputs": []
    },
    {
      "cell_type": "code",
      "metadata": {
        "id": "1k9lo2XmAXIj"
      },
      "source": [
        "# Example 1. Sanity check (distance between identical distributions)\n",
        "\n",
        "doseNum1 = 1;\n",
        "doseNum2 = 1;\n",
        "structNum = 3;       #GTV\n", 
        "gamma = 0.1;\n",
        "downsampleIndex = 3;\n",
        "\n",
        "dist = octave.calcOMTDoseDistance(doseNum1,doseNum2,structNum,gamma,downsampleIndex,planC);\n",
        "print('OMT distance = ' + str(dist))"
      ],
      "execution_count": null,
      "outputs": []
    },
    {
      "cell_type": "code",
      "metadata": {
        "colab": {
          "base_uri": "https://localhost:8080/"
        },
        "id": "CBq4QwJ8e4gF",
        "outputId": "e9aa24c4-a204-4816-c14a-c20280bf04a4"
      },
      "source": [
        "# Example 2. Distance between two dose distributions in region of interest\n",
        "\n",
        "doseNum1 = 1;\n",
        "doseNum2 = 2;\n",
        "structNum = 3; \n",
        "gamma = 0.1;\n",
        "downsampleIndex = 3;\n",
        "\n",
        "dist = octave.calcOMTDoseDistance(doseNum1,doseNum2,structNum,gamma,downsampleIndex,planC);\n",
        "print('OMT distance = ' + str(dist))"
      ],
      "execution_count": null,
      "outputs": []
    },
    {
      "cell_type": "markdown",
      "metadata": {
            "id": "qKTSsOkra0bI"
      },
      "source": [
            "## Display ROI and dose distributions"
      ]
    },
    {
      "cell_type": "code",
      "metadata": {
        "id": "Kyu3BB0b94Wk"
      },
      "source": [
        "from oct2py import octave\n",
        "%octave_push planC structNum doseNum1 doseNum2 dist"
      ],
      "execution_count": null,
      "outputs": []
    },
    {
      "cell_type": "code",
      "metadata": {
        "id": "1DeafYyx_cNe"
      },
       "source": [
       "%%octave \n",
       "\n",
       "addpath(genpath('/content/CERR'));\n",
       "\n",
       "# Get scan array\n",
       "indexS = planC{end};\n",
       "scanNum = getStructureAssociatedScan(structNum,planC);\n",
       "scan3M = getScanArray(scanNum,planC);\n",
       "CToffset = planC{indexS.scan}(1).scanInfo(1).CTOffset;\n",
       "scan3M = double(scan3M - CToffset);\n",
       "\n",
       "# Get dose arrays on CT grid\n",
       "dose1M = getDoseOnCT(doseNum1, scanNum, 'normal', planC);\n",
       "dose2M = getDoseOnCT(doseNum2, scanNum, 'normal', planC);\n",
       "\n",
       "# Crop to slices of interest\n",
       "mask3M = getStrMask(structNum,planC);\n",
       "[rMin,rMax,cMin,cMax,sMin,sMax] = compute_boundingbox(mask3M);\n",
       "scan3M = scan3M(:,:,sMin:sMax);\n",
       "mask3M = mask3M(:,:,sMin:sMax);\n",
       "dose1M = dose1M(:,:,sMin:sMax);\n",
       "dose2M = dose2M(:,:,sMin:sMax);\n",
       "doseC = {dose1M,dose2M};"
      ],
      "execution_count": null,
      "outputs": []
    },
    {
      "cell_type": "code",
      "metadata": {
        "id": "UeLL9jdG_d_F"
      },
      "source": [
        "%octave_pull doseNum1 doseNum2 structNum doseC scan3M mask3M dist"
      ],
      "execution_count": null,
      "outputs": []
    },
   {
      "cell_type": "code",
      "metadata": {
        "id": "7vbn571nfv4p",
        "outputId": "652c9516-365e-4bce-b822-8ebb34f17f24",
        "colab": {
          "base_uri": "https://localhost:8080/",
          "height": 268,
          "referenced_widgets": [
            "885bb649a67d460da32f97138360755a",
            "2eb5efd89ad9420fad22cdc10e22cab6",
            "dd78c7403b754febbe898a87833103f0",
            "b15e6fd347e143be9d9dac87a47df831",
            "ad8f72aace6b4a31935768dd2939e46d"
          ]
        }
      },
      "source": [
        "import matplotlib\n",
        "import matplotlib.pyplot as plt\n",
        "import matplotlib.patches as patches\n",
        "import ipywidgets as widgets\n",
        "import numpy as np\n",
        "from matplotlib import cm\n",
        "from IPython.display import clear_output\n",
        "from functools import partial\n",
        "from skimage import measure\n",
        "\n",
        "clear_output(wait=True)    \n",
        "\n",
        "def window_image(image, window_center, window_width):\n",
        "    img_min = window_center - window_width // 2\n",
        "    img_max = window_center + window_width // 2\n",
        "    window_image = image.copy()\n",
        "    window_image[window_image < img_min] = img_min\n",
        "    window_image[window_image > img_max] = img_max\n",
        "    \n",
        "    return window_image\n",
        "\n",
        "def show_roi(ax,scanM,maskM):\n",
        "    #Show region of interest\n",
        "    window_center = 0\n",
        "    window_width = 300\n",
        "    extent = 0, 511, 0, 511\n",
        "   \n",
        "    im0 = ax.imshow(scanM, cmap=plt.cm.gray, alpha=1,\n",
        "                    interpolation='none', extent=extent)\n",
        "    \n",
        "    contours = measure.find_contours(maskM, 0.5)\n",
        "    for contour in contours:\n",
        "        ax.plot(contour[:, 1], contour[:, 0], linewidth=2, color='red')\n",
        "\n",
        "    ax.set_xticks([])\n",
        "    ax.set_yticks([])\n",
        "    ax.title.set_text('Region of interest')    \n",
        "\n",
        "def show_dose_overlay(scan3M, mask3M, doseNum1, doseNum2, dist, slcNum):\n",
        "\n",
        "    clear_output(wait=True)\n",
        "    print('Slice '+str(slcNum))\n",
        "    if 'fig' in locals():\n",
        "        fig.remove()\n",
        "   \n",
        "    # Define color maps & window levels\n",
        "    window_center = 0\n",
        "    window_width = 300\n",
        "    jet=plt.cm.jet\n",
        "    jet_map = [jet(i) for i in range(jet.N)]\n",
        "    #jet_map[0] = [0.0,0.0,0.0,1.0]\n",
        "    dose_cmap = jet.from_list('Custom cmap', jet_map, jet.N)\n",
        "    dose_cmap.set_under('k', alpha=0)\n",
        "    \n",
        "    fig, ax = plt.subplots(1,3)\n",
        "    fig.set_size_inches(10, 6)\n",
        "    extent = 0, 511, 0, 511\n",
        "\n",
        "    # Show ROI\n",
        "    windowed_img = window_image(scan3M[:,:,slcNum-1],\n",
        "                                window_center,window_width)\n",
        "    maskM = mask3M[:,:,slcNum-1]\n",
        "    show_roi(ax[0],windowed_img,maskM)\n",
        "\n",
        "    # Show dose1 overlay\n",
        "    im1 = ax[1].imshow(windowed_img, cmap=plt.cm.gray, alpha=1,\n",
        "                    interpolation='none', extent=extent)\n",
        "    dose1M = doseC[0][doseNum1-1]\n",
        "    d1 = ax[1].imshow(dose1M[:,:,slcNum-1], \n",
        "                        cmap=dose_cmap, alpha=.4, extent=extent,\n",
        "                        interpolation='none')  \n",
        "    ax[1].set_xticks([])\n",
        "    ax[1].set_yticks([])\n",
        "    ax[1].title.set_text('Dose 1')\n",
        "\n",
        "    # Show dose2 overlay\n",
        "    im2 = ax[2].imshow(windowed_img, cmap=plt.cm.gray, alpha=1,\n",
        "                    interpolation='none', extent=extent)\n",
        "    \n",
        "    dose2M = doseC[0][doseNum2-1];\n",
        "    d2 = ax[2].imshow(dose2M[:,:,slcNum-1], \n",
        "                        cmap=dose_cmap, alpha=.4, extent=extent,\n",
        "                        interpolation='none',clim=[0,90])  \n",
        "    \n",
        "    ax[2].set_xticks([])\n",
        "    ax[2].set_yticks([])\n",
        "    ax[2].title.set_text('Dose 2')\n",
        "\n",
        "    cax = fig.add_axes([0.95,0.32,0.03,0.36]) \n",
        "    fig.colorbar(d2, cax=cax)\n",
        "    fig.subplots_adjust(wspace=0.3)\n",
        "    txt = 'OMT distance = ' + str(\"{:.4f}\".format(dist))\n",
        "    fig.text(.66, .25, txt, fontsize = 12, fontweight = 'bold', ha='center')\n",
        "    \n",
        "    plt.show()   \n",
        "\n",
        "slice_slider = widgets.IntSlider(min=1,max=20,step=1)\n",
        "outputSlc = widgets.Output()\n",
        "display(slice_slider, outputSlc) \n",
        "\n",
        "def update_display(change):\n",
        "  global scan3M, mask3M, doseNum1, doseNum2, dist\n",
        "  with outputSlc:\n",
        "    show_dose_overlay(scan3M, mask3M, int(doseNum1), int(doseNum2), \\\n",
        "                      dist, change['new'])\n",
        "\n",
        "slice_slider.observe(update_display, names='value')"        
      ],
      "execution_count": null,
      "outputs": [
        {
          "output_type": "display_data",
          "data": {
            "application/vnd.jupyter.widget-view+json": {
              "model_id": "885bb649a67d460da32f97138360755a",
              "version_minor": 0,
              "version_major": 2
            },
            "text/plain": [
              "IntSlider(value=1, max=20, min=1)"
            ]
          },
          "metadata": {
            "tags": []
          }
        },
        {
          "output_type": "display_data",
          "data": {
            "application/vnd.jupyter.widget-view+json": {
              "model_id": "b15e6fd347e143be9d9dac87a47df831",
              "version_minor": 0,
              "version_major": 2
            },
            "text/plain": [
              "Output()"
            ]
          },
          "metadata": {
            "tags": []
          }
        }
      ]
    }
  ]
}
